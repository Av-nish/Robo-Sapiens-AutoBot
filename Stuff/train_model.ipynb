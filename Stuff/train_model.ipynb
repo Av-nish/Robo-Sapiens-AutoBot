{
 "cells": [
  {
   "cell_type": "markdown",
   "metadata": {},
   "source": [
    "# Road Follower - Train Model\n",
    "\n",
    "In this notebook we will train a neural network to take an input image, and output a set of x, y values corresponding to a target.\n",
    "\n",
    "We will be using PyTorch deep learning framework to train ResNet18 neural network architecture model for road follower application."
   ]
  },
  {
   "cell_type": "code",
   "execution_count": 12,
   "metadata": {},
   "outputs": [],
   "source": [
    "import torch\n",
    "import torch.optim as optim\n",
    "import torch.nn.functional as F\n",
    "import torch.nn as nn\n",
    "import torchvision\n",
    "import torchvision.datasets as datasets\n",
    "import torchvision.models as models\n",
    "from torchvision.transforms import ToTensor\n",
    "import glob\n",
    "import PIL.Image\n",
    "import os\n",
    "import numpy as np"
   ]
  },
  {
   "cell_type": "markdown",
   "metadata": {},
   "source": [
    "### Download and extract data\n",
    "\n",
    "Before you start, you should upload the ``road_following_<Date&Time>.zip`` file that you created in the ``data_collection.ipynb`` notebook on the robot. \n",
    "\n",
    "> If you're training on the JetBot you collected data on, you can skip this!\n",
    "\n",
    "You should then extract this dataset by calling the command below:"
   ]
  },
  {
   "cell_type": "code",
   "execution_count": 13,
   "metadata": {},
   "outputs": [
    {
     "name": "stderr",
     "output_type": "stream",
     "text": [
      "'unzip' is not recognized as an internal or external command,\n",
      "operable program or batch file.\n"
     ]
    }
   ],
   "source": [
    "!unzip -q road_following.zip"
   ]
  },
  {
   "cell_type": "markdown",
   "metadata": {},
   "source": [
    "You should see a folder named ``dataset_all`` appear in the file browser."
   ]
  },
  {
   "cell_type": "markdown",
   "metadata": {},
   "source": [
    "### Create Dataset Instance\n",
    "\n",
    "Here we create a custom ``torch.utils.data.Dataset`` implementation, which implements the ``__len__`` and ``__getitem__`` functions.  This class\n",
    "is responsible for loading images and parsing the x, y values from the image filenames.  Because we implement the ``torch.utils.data.Dataset`` class,\n",
    "we can use all of the torch data utilities :)\n",
    "\n",
    "We hard coded some transformations (like color jitter) into our dataset.  We made random horizontal flips optional (in case you want to follow a non-symmetric path, like a road\n",
    "where we need to 'stay right').  If it doesn't matter whether your robot follows some convention, you could enable flips to augment the dataset."
   ]
  },
  {
   "cell_type": "code",
   "execution_count": 14,
   "metadata": {},
   "outputs": [],
   "source": [
    "import glob"
   ]
  },
  {
   "cell_type": "code",
   "execution_count": 15,
   "metadata": {},
   "outputs": [],
   "source": [
    "class XYDataset(torch.utils.data.Dataset):\n",
    "    \n",
    "    def __init__(self):\n",
    "        path_person = './iit delhi/person/*'\n",
    "        path_animal = './iit delhi/animal/*'\n",
    "        path_roadCones = './iit delhi/roadCones/*'\n",
    "        path_zebra = './iit delhi/zebra/*'\n",
    "        path_not_zebra = './iit delhi/notZebra/*'\n",
    "\n",
    "        self.filenames = []\n",
    "        self.labels = []\n",
    "\n",
    "        for img in glob.glob(path_person):\n",
    "            self.filenames.append(img)\n",
    "            self.labels.append(0)\n",
    "        for img in glob.glob(path_animal):\n",
    "            self.filenames.append(img)\n",
    "            self.labels.append(1)\n",
    "        for img in glob.glob(path_roadCones):\n",
    "            self.filenames.append(img)\n",
    "            self.labels.append(2)\n",
    "        for img in glob.glob(path_zebra):\n",
    "            self.filenames.append(img)\n",
    "            self.labels.append(3)\n",
    "        for img in glob.glob(path_not_zebra):\n",
    "            self.filenames.append(img)\n",
    "            self.labels.append(4)\n",
    "    \n",
    "    def __len__(self):\n",
    "        return len(self.filenames)\n",
    "    \n",
    "    def __getitem__(self, idx):\n",
    "        image_path = self.filenames[idx]\n",
    "        image = PIL.Image.open(image_path)\n",
    "        image = ToTensor()(image)\n",
    "        \n",
    "        return image, self.labels[idx]\n",
    "\n",
    "    def printOut(self):\n",
    "        return set(self.labels)\n",
    "    \n",
    "dataset = XYDataset()"
   ]
  },
  {
   "cell_type": "code",
   "execution_count": 16,
   "metadata": {},
   "outputs": [
    {
     "data": {
      "text/plain": [
       "({0, 1, 2}, 5537)"
      ]
     },
     "execution_count": 16,
     "metadata": {},
     "output_type": "execute_result"
    }
   ],
   "source": [
    "dataset.printOut(), len(dataset)"
   ]
  },
  {
   "cell_type": "markdown",
   "metadata": {},
   "source": [
    "### Split dataset into train and test sets\n",
    "Once we read dataset, we will split data set in train and test sets. In this example we split train and test a 90%-10%. The test set will be used to verify the accuracy of the model we train."
   ]
  },
  {
   "cell_type": "code",
   "execution_count": 17,
   "metadata": {},
   "outputs": [],
   "source": [
    "test_percent = 0.1\n",
    "num_test = int(test_percent * len(dataset))\n",
    "train_dataset, test_dataset = torch.utils.data.random_split(dataset, [len(dataset) - num_test, num_test])"
   ]
  },
  {
   "cell_type": "markdown",
   "metadata": {},
   "source": [
    "### Create data loaders to load data in batches\n",
    "\n",
    "We use ``DataLoader`` class to load data in batches, shuffle data and allow using multi-subprocesses. In this example we use batch size of 64. Batch size will be based on memory available with your GPU and it can impact accuracy of the model."
   ]
  },
  {
   "cell_type": "code",
   "execution_count": 18,
   "metadata": {},
   "outputs": [],
   "source": [
    "train_loader = torch.utils.data.DataLoader(\n",
    "    train_dataset,\n",
    "    batch_size=128,\n",
    "    shuffle=True,\n",
    "    num_workers=0\n",
    ")\n",
    "\n",
    "test_loader = torch.utils.data.DataLoader(\n",
    "    test_dataset,\n",
    "    batch_size=128,\n",
    "    shuffle=True,\n",
    "    num_workers=0\n",
    ")"
   ]
  },
  {
   "cell_type": "markdown",
   "metadata": {},
   "source": [
    "### Define Neural Network Model \n",
    "\n",
    "We use ResNet-18 model available on PyTorch TorchVision. \n",
    "\n",
    "In a process called transfer learning, we can repurpose a pre-trained model (trained on millions of images) for a new task that has possibly much less data available.\n",
    "\n",
    "\n",
    "More details on ResNet-18 : https://github.com/pytorch/vision/blob/master/torchvision/models/resnet.py\n",
    "\n",
    "More Details on Transfer Learning: https://www.youtube.com/watch?v=yofjFQddwHE "
   ]
  },
  {
   "cell_type": "code",
   "execution_count": 19,
   "metadata": {},
   "outputs": [],
   "source": [
    "# model = models.resnet50(pretrained=True)\n",
    "model = models.alexnet(pretrained=True)\n",
    "for param in model.parameters():\n",
    "    param.requires_grad = False\n",
    "\n",
    "# for param in model.layer4.parameters():\n",
    "#     param.requires_grad = True\n",
    "# model.layer4.requires_grad_ = True"
   ]
  },
  {
   "cell_type": "code",
   "execution_count": 20,
   "metadata": {},
   "outputs": [
    {
     "name": "stdout",
     "output_type": "stream",
     "text": [
      "----------------------------------------------------------------\n",
      "        Layer (type)               Output Shape         Param #\n",
      "================================================================\n",
      "            Conv2d-1           [-1, 64, 55, 55]          23,296\n",
      "              ReLU-2           [-1, 64, 55, 55]               0\n",
      "         MaxPool2d-3           [-1, 64, 27, 27]               0\n",
      "            Conv2d-4          [-1, 192, 27, 27]         307,392\n",
      "              ReLU-5          [-1, 192, 27, 27]               0\n",
      "         MaxPool2d-6          [-1, 192, 13, 13]               0\n",
      "            Conv2d-7          [-1, 384, 13, 13]         663,936\n",
      "              ReLU-8          [-1, 384, 13, 13]               0\n",
      "            Conv2d-9          [-1, 256, 13, 13]         884,992\n",
      "             ReLU-10          [-1, 256, 13, 13]               0\n",
      "           Conv2d-11          [-1, 256, 13, 13]         590,080\n",
      "             ReLU-12          [-1, 256, 13, 13]               0\n",
      "        MaxPool2d-13            [-1, 256, 6, 6]               0\n",
      "AdaptiveAvgPool2d-14            [-1, 256, 6, 6]               0\n",
      "================================================================\n",
      "Total params: 2,469,696\n",
      "Trainable params: 0\n",
      "Non-trainable params: 2,469,696\n",
      "----------------------------------------------------------------\n",
      "Input size (MB): 0.57\n",
      "Forward/backward pass size (MB): 8.14\n",
      "Params size (MB): 9.42\n",
      "Estimated Total Size (MB): 18.14\n",
      "----------------------------------------------------------------\n"
     ]
    }
   ],
   "source": [
    "from torchsummary import summary\n",
    "summary(torch.nn.Sequential(*(list(model.children())[:-1])), (3, 224, 224))"
   ]
  },
  {
   "cell_type": "markdown",
   "metadata": {},
   "source": [
    "ResNet model has fully connect (fc) final layer with 512 as ``in_features`` and we will be training for regression thus ``out_features`` as 1\n",
    "\n",
    "Finally, we transfer our model for execution on the GPU"
   ]
  },
  {
   "cell_type": "code",
   "execution_count": 21,
   "metadata": {},
   "outputs": [],
   "source": [
    "# Resnet\n",
    "# model.fc = torch.nn.Linear(2048,3)\n",
    "\n",
    "# Alexnet\n",
    "model.classifier = nn.Sequential(\n",
    "            nn.Dropout(p=0.5),\n",
    "            nn.Linear(256 * 6 * 6, 4096),\n",
    "            nn.ReLU(inplace=True),\n",
    "            nn.Dropout(p=0.5),\n",
    "            nn.Linear(4096, 4096),\n",
    "            nn.ReLU(inplace=True),\n",
    "            nn.Linear(4096, 2)\n",
    "        )\n",
    "device = torch.device('cpu')\n",
    "model = model.to(device)"
   ]
  },
  {
   "cell_type": "markdown",
   "metadata": {},
   "source": [
    "### Train Regression:\n",
    "\n",
    "We train for 50 epochs and save best model if the loss is reduced. "
   ]
  },
  {
   "cell_type": "code",
   "execution_count": 24,
   "metadata": {},
   "outputs": [
    {
     "name": "stdout",
     "output_type": "stream",
     "text": [
      "Step: 1,  Epoch: 1/4,  Loss: 0.00035020645009353757\n",
      "Step: 2,  Epoch: 1/4,  Loss: 0.008379651233553886\n",
      "Step: 3,  Epoch: 1/4,  Loss: 3.609030272855307e-06\n",
      "Step: 4,  Epoch: 1/4,  Loss: 6.365256558638066e-05\n",
      "Step: 5,  Epoch: 1/4,  Loss: 0.003242322476580739\n",
      "Step: 6,  Epoch: 1/4,  Loss: 0.0002571040531620383\n",
      "Step: 7,  Epoch: 1/4,  Loss: 6.51925624595151e-09\n",
      "Step: 8,  Epoch: 1/4,  Loss: 1.221592174260877e-05\n",
      "Step: 9,  Epoch: 1/4,  Loss: 3.7252898543727042e-09\n",
      "Step: 10,  Epoch: 1/4,  Loss: 8.381876881458084e-08\n",
      "Step: 11,  Epoch: 1/4,  Loss: 0.01873539201915264\n",
      "Step: 12,  Epoch: 1/4,  Loss: 0.01912238821387291\n",
      "Step: 13,  Epoch: 1/4,  Loss: 0.00026010500732809305\n",
      "Step: 14,  Epoch: 1/4,  Loss: 0.0004089302965439856\n",
      "Step: 15,  Epoch: 1/4,  Loss: 3.6786383361686603e-07\n",
      "Step: 16,  Epoch: 1/4,  Loss: 0.007668440230190754\n",
      "Step: 17,  Epoch: 1/4,  Loss: 5.3004077926743776e-05\n",
      "Step: 18,  Epoch: 1/4,  Loss: 3.9487727576670295e-07\n",
      "Step: 19,  Epoch: 1/4,  Loss: 0.0013589721638709307\n",
      "Step: 20,  Epoch: 1/4,  Loss: 4.7497355382120077e-08\n",
      "Step: 21,  Epoch: 1/4,  Loss: 0.0005938145332038403\n",
      "Step: 22,  Epoch: 1/4,  Loss: 3.885616024490446e-06\n",
      "Step: 23,  Epoch: 1/4,  Loss: 0.00022250904294196516\n",
      "Step: 24,  Epoch: 1/4,  Loss: 0.015706287696957588\n",
      "Step: 25,  Epoch: 1/4,  Loss: 0.0015821513952687383\n",
      "Step: 26,  Epoch: 1/4,  Loss: 0.001333117950707674\n",
      "Step: 27,  Epoch: 1/4,  Loss: 2.0489075325258455e-08\n",
      "Step: 28,  Epoch: 1/4,  Loss: 0.14938195049762726\n",
      "Step: 29,  Epoch: 1/4,  Loss: 2.7939672797572257e-09\n",
      "Step: 30,  Epoch: 1/4,  Loss: 0.036647647619247437\n",
      "Step: 31,  Epoch: 1/4,  Loss: 0.03098754957318306\n",
      "Step: 32,  Epoch: 1/4,  Loss: 0.00013154302723705769\n",
      "Step: 33,  Epoch: 1/4,  Loss: 7.409008503600489e-06\n",
      "Step: 34,  Epoch: 1/4,  Loss: 0.020752083510160446\n",
      "Step: 35,  Epoch: 1/4,  Loss: 2.793963105318653e-08\n",
      "Step: 36,  Epoch: 1/4,  Loss: 0.04522033780813217\n",
      "Step: 37,  Epoch: 1/4,  Loss: 0.06187434121966362\n",
      "Step: 38,  Epoch: 1/4,  Loss: 6.89308944856748e-05\n",
      "Step: 39,  Epoch: 1/4,  Loss: 0.016578299924731255\n",
      "0.011308, 0.001986\n",
      "Step: 1,  Epoch: 2/4,  Loss: 2.1420299844976398e-07\n",
      "Step: 2,  Epoch: 2/4,  Loss: 0.020089799538254738\n",
      "Step: 3,  Epoch: 2/4,  Loss: 0.05017205327749252\n",
      "Step: 4,  Epoch: 2/4,  Loss: 0.0010198367526754737\n",
      "Step: 5,  Epoch: 2/4,  Loss: 0.00042907707393169403\n",
      "Step: 6,  Epoch: 2/4,  Loss: 0.07909569889307022\n",
      "Step: 7,  Epoch: 2/4,  Loss: 0.0013517223997041583\n",
      "Step: 8,  Epoch: 2/4,  Loss: 6.57993996355799e-06\n",
      "Step: 9,  Epoch: 2/4,  Loss: 1.7423911913283519e-06\n",
      "Step: 10,  Epoch: 2/4,  Loss: 0.04684734344482422\n",
      "Step: 11,  Epoch: 2/4,  Loss: 2.502190454833908e-06\n",
      "Step: 12,  Epoch: 2/4,  Loss: 0.029464030638337135\n",
      "Step: 13,  Epoch: 2/4,  Loss: 1.0104302418767475e-05\n",
      "Step: 14,  Epoch: 2/4,  Loss: 0.0036591726820915937\n",
      "Step: 15,  Epoch: 2/4,  Loss: 4.0676874050404876e-05\n",
      "Step: 16,  Epoch: 2/4,  Loss: 0.005118444096297026\n",
      "Step: 17,  Epoch: 2/4,  Loss: 0.004122468177229166\n",
      "Step: 18,  Epoch: 2/4,  Loss: 0.021250439807772636\n",
      "Step: 19,  Epoch: 2/4,  Loss: 0.003503781743347645\n",
      "Step: 20,  Epoch: 2/4,  Loss: 0.06680953502655029\n",
      "Step: 21,  Epoch: 2/4,  Loss: 0.003108067438006401\n",
      "Step: 22,  Epoch: 2/4,  Loss: 0.04640194773674011\n",
      "Step: 23,  Epoch: 2/4,  Loss: 0.009653168730437756\n",
      "Step: 24,  Epoch: 2/4,  Loss: 0.00019341243023518473\n",
      "Step: 25,  Epoch: 2/4,  Loss: 0.00023945838620420545\n",
      "Step: 26,  Epoch: 2/4,  Loss: 7.2584680310683325e-06\n",
      "Step: 27,  Epoch: 2/4,  Loss: 0.009889642708003521\n",
      "Step: 28,  Epoch: 2/4,  Loss: 0.005713013932108879\n",
      "Step: 29,  Epoch: 2/4,  Loss: 0.0005276149022392929\n",
      "Step: 30,  Epoch: 2/4,  Loss: 0.00015857486869208515\n",
      "Step: 31,  Epoch: 2/4,  Loss: 5.3436502639669925e-05\n",
      "Step: 32,  Epoch: 2/4,  Loss: 0.02926657162606716\n",
      "Step: 33,  Epoch: 2/4,  Loss: 0.0017835150938481092\n",
      "Step: 34,  Epoch: 2/4,  Loss: 0.00026871071895584464\n",
      "Step: 35,  Epoch: 2/4,  Loss: 0.00015347755106631666\n",
      "Step: 36,  Epoch: 2/4,  Loss: 0.07918400317430496\n",
      "Step: 37,  Epoch: 2/4,  Loss: 3.107521843048744e-05\n",
      "Step: 38,  Epoch: 2/4,  Loss: 0.0003654253378044814\n",
      "Step: 39,  Epoch: 2/4,  Loss: 9.099972521653399e-05\n",
      "0.013336, 0.000095\n",
      "Step: 1,  Epoch: 3/4,  Loss: 0.0014931350015103817\n",
      "Step: 2,  Epoch: 3/4,  Loss: 0.001236901618540287\n",
      "Step: 3,  Epoch: 3/4,  Loss: 9.047426829056349e-06\n",
      "Step: 4,  Epoch: 3/4,  Loss: 1.8239299606648274e-05\n",
      "Step: 5,  Epoch: 3/4,  Loss: 1.1087109669460915e-05\n",
      "Step: 6,  Epoch: 3/4,  Loss: 6.097165896790102e-05\n",
      "Step: 7,  Epoch: 3/4,  Loss: 0.01138262264430523\n",
      "Step: 8,  Epoch: 3/4,  Loss: 4.89116109747556e-06\n",
      "Step: 9,  Epoch: 3/4,  Loss: 0.0013593182666227221\n",
      "Step: 10,  Epoch: 3/4,  Loss: 5.5693140893708915e-05\n",
      "Step: 11,  Epoch: 3/4,  Loss: 0.0004274594539310783\n",
      "Step: 12,  Epoch: 3/4,  Loss: 1.2665492477026419e-06\n",
      "Step: 13,  Epoch: 3/4,  Loss: 7.363458280451596e-05\n",
      "Step: 14,  Epoch: 3/4,  Loss: 0.0003542908816598356\n",
      "Step: 15,  Epoch: 3/4,  Loss: 0.005982392933219671\n",
      "Step: 16,  Epoch: 3/4,  Loss: 0.023760085925459862\n",
      "Step: 17,  Epoch: 3/4,  Loss: 5.133519152877852e-05\n",
      "Step: 18,  Epoch: 3/4,  Loss: 1.0020594345405698e-06\n",
      "Step: 19,  Epoch: 3/4,  Loss: 0.03264520689845085\n",
      "Step: 20,  Epoch: 3/4,  Loss: 3.834145172731951e-05\n",
      "Step: 21,  Epoch: 3/4,  Loss: 0.0169803649187088\n",
      "Step: 22,  Epoch: 3/4,  Loss: 6.397457127604866e-06\n",
      "Step: 23,  Epoch: 3/4,  Loss: 0.0003044034820050001\n",
      "Step: 24,  Epoch: 3/4,  Loss: 6.016260272190266e-07\n",
      "Step: 25,  Epoch: 3/4,  Loss: 0.2797812819480896\n",
      "Step: 26,  Epoch: 3/4,  Loss: 0.00028264691354706883\n",
      "Step: 27,  Epoch: 3/4,  Loss: 1.061782404576661e-05\n",
      "Step: 28,  Epoch: 3/4,  Loss: 0.031693387776613235\n",
      "Step: 29,  Epoch: 3/4,  Loss: 5.6810602444556935e-08\n",
      "Step: 30,  Epoch: 3/4,  Loss: 1.219352452608291e-05\n",
      "Step: 31,  Epoch: 3/4,  Loss: 0.004729223903268576\n",
      "Step: 32,  Epoch: 3/4,  Loss: 3.90822060580831e-06\n",
      "Step: 33,  Epoch: 3/4,  Loss: 0.016783922910690308\n",
      "Step: 34,  Epoch: 3/4,  Loss: 0.05921206623315811\n",
      "Step: 35,  Epoch: 3/4,  Loss: 0.00016683342983014882\n",
      "Step: 36,  Epoch: 3/4,  Loss: 0.0015573629643768072\n",
      "Step: 37,  Epoch: 3/4,  Loss: 4.4839474867330864e-05\n",
      "Step: 38,  Epoch: 3/4,  Loss: 0.0056739808060228825\n",
      "Step: 39,  Epoch: 3/4,  Loss: 0.0023814202286303043\n",
      "0.012784, 0.013935\n",
      "Step: 1,  Epoch: 4/4,  Loss: 0.12762439250946045\n",
      "Step: 2,  Epoch: 4/4,  Loss: 8.547443030693103e-06\n",
      "Step: 3,  Epoch: 4/4,  Loss: 0.05333569645881653\n",
      "Step: 4,  Epoch: 4/4,  Loss: 0.048634789884090424\n",
      "Step: 5,  Epoch: 4/4,  Loss: 0.1485956758260727\n",
      "Step: 6,  Epoch: 4/4,  Loss: 1.8773638430502615e-06\n",
      "Step: 7,  Epoch: 4/4,  Loss: 0.030900564044713974\n",
      "Step: 8,  Epoch: 4/4,  Loss: 1.5859511677263072e-06\n",
      "Step: 9,  Epoch: 4/4,  Loss: 5.951069965703937e-07\n",
      "Step: 10,  Epoch: 4/4,  Loss: 1.5669767890358344e-05\n",
      "Step: 11,  Epoch: 4/4,  Loss: 0.0020041423849761486\n",
      "Step: 12,  Epoch: 4/4,  Loss: 0.0011355194728821516\n",
      "Step: 13,  Epoch: 4/4,  Loss: 0.00523368502035737\n",
      "Step: 14,  Epoch: 4/4,  Loss: 3.622102667577565e-05\n",
      "Step: 15,  Epoch: 4/4,  Loss: 4.5788281568093225e-05\n",
      "Step: 16,  Epoch: 4/4,  Loss: 0.007162276189774275\n",
      "Step: 17,  Epoch: 4/4,  Loss: 1.3279864106152672e-06\n",
      "Step: 18,  Epoch: 4/4,  Loss: 0.003397533670067787\n",
      "Step: 19,  Epoch: 4/4,  Loss: 2.8112401651014807e-06\n",
      "Step: 20,  Epoch: 4/4,  Loss: 0.07481501996517181\n",
      "Step: 21,  Epoch: 4/4,  Loss: 1.2409442206262611e-05\n",
      "Step: 22,  Epoch: 4/4,  Loss: 0.005640431772917509\n",
      "Step: 23,  Epoch: 4/4,  Loss: 0.0014359684428200126\n",
      "Step: 24,  Epoch: 4/4,  Loss: 7.730928336968645e-05\n",
      "Step: 25,  Epoch: 4/4,  Loss: 0.0006467757630161941\n",
      "Step: 26,  Epoch: 4/4,  Loss: 0.07096268236637115\n",
      "Step: 27,  Epoch: 4/4,  Loss: 0.006436684634536505\n",
      "Step: 28,  Epoch: 4/4,  Loss: 0.006290767341852188\n",
      "Step: 29,  Epoch: 4/4,  Loss: 3.979944267484825e-06\n",
      "Step: 30,  Epoch: 4/4,  Loss: 0.02820863388478756\n",
      "Step: 31,  Epoch: 4/4,  Loss: 7.46546356822364e-05\n",
      "Step: 32,  Epoch: 4/4,  Loss: 1.0383832886873279e-06\n",
      "Step: 33,  Epoch: 4/4,  Loss: 0.1695454716682434\n",
      "Step: 34,  Epoch: 4/4,  Loss: 5.529328518605325e-06\n",
      "Step: 35,  Epoch: 4/4,  Loss: 0.010460469871759415\n",
      "Step: 36,  Epoch: 4/4,  Loss: 0.0013727052137255669\n",
      "Step: 37,  Epoch: 4/4,  Loss: 0.0004404174687806517\n",
      "Step: 38,  Epoch: 4/4,  Loss: 0.00575011782348156\n",
      "Step: 39,  Epoch: 4/4,  Loss: 0.02025805227458477\n",
      "0.021297, 0.000140\n"
     ]
    }
   ],
   "source": [
    "# for param in model.parameters():\n",
    "#     param.requires_grad = True\n",
    "\n",
    "NUM_EPOCHS = 4\n",
    "BEST_MODEL_PATH = 'best_steering_model_xy.pth'\n",
    "best_loss = 1e9\n",
    "\n",
    "optimizer = optim.Adam(model.parameters())\n",
    "\n",
    "for epoch in range(NUM_EPOCHS):\n",
    "    \n",
    "    model.train()\n",
    "    train_loss = 0.0\n",
    "    for i, (images, labels) in enumerate(iter(train_loader)):\n",
    "        images = images.to(device)\n",
    "        labels = labels.to(device)\n",
    "        optimizer.zero_grad()\n",
    "        outputs = model(images)\n",
    "        loss = F.cross_entropy(outputs, labels)\n",
    "        train_loss += float(loss)\n",
    "        loss.backward()\n",
    "        optimizer.step()\n",
    "        print(f'Step: {i+1},  Epoch: {epoch+1}/{NUM_EPOCHS},  Loss: {loss.item()}')\n",
    "    train_loss /= len(train_loader)\n",
    "    \n",
    "    model.eval()\n",
    "    test_loss = 0.0\n",
    "    for images, labels in iter(test_loader):\n",
    "        images = images.to(device)\n",
    "        labels = labels.to(device)\n",
    "        outputs = model(images)\n",
    "        loss = F.cross_entropy(outputs, labels)\n",
    "        test_loss += float(loss)\n",
    "    test_loss /= len(test_loader)\n",
    "    \n",
    "    print('%f, %f' % (train_loss, test_loss))\n",
    "    if test_loss < best_loss:\n",
    "        torch.save(model.state_dict(), BEST_MODEL_PATH)\n",
    "        best_loss = test_loss"
   ]
  },
  {
   "cell_type": "code",
   "execution_count": 25,
   "metadata": {},
   "outputs": [
    {
     "name": "stderr",
     "output_type": "stream",
     "text": [
      "C:\\Users\\Sahaj\\AppData\\Roaming\\Python\\Python37\\site-packages\\ipykernel_launcher.py:7: UserWarning: Implicit dimension choice for softmax has been deprecated. Change the call to include dim=X as an argument.\n",
      "  import sys\n"
     ]
    },
    {
     "name": "stdout",
     "output_type": "stream",
     "text": [
      "torch.Size([128]) torch.Size([128])\n",
      "tensor([0., 1., 1., 1., 0., 1., 1., 1., 1., 0., 0., 1., 1., 0., 1., 1., 1., 1.,\n",
      "        1., 1., 0., 1., 0., 1., 1., 1., 1., 0., 0., 1., 0., 1., 0., 1., 0., 0.,\n",
      "        1., 0., 0., 1., 1., 1., 1., 0., 1., 1., 1., 1., 1., 0., 1., 0., 0., 1.,\n",
      "        0., 1., 1., 1., 1., 1., 0., 1., 1., 0., 0., 0., 1., 1., 1., 1., 1., 0.,\n",
      "        0., 0., 1., 1., 0., 0., 0., 0., 0., 1., 0., 1., 0., 1., 1., 1., 1., 0.,\n",
      "        1., 1., 1., 1., 1., 1., 1., 1., 0., 1., 0., 0., 0., 1., 1., 1., 1., 1.,\n",
      "        1., 0., 0., 0., 1., 0., 1., 1., 1., 0., 0., 0., 1., 0., 0., 0., 1., 1.,\n",
      "        1., 0.])\n",
      "torch.Size([128]) torch.Size([128])\n",
      "tensor([1., 0., 0., 1., 1., 1., 0., 0., 0., 1., 1., 0., 0., 0., 1., 0., 0., 0.,\n",
      "        1., 0., 1., 1., 1., 0., 0., 0., 1., 0., 0., 0., 0., 0., 1., 1., 0., 1.,\n",
      "        0., 1., 0., 1., 1., 0., 0., 0., 1., 0., 0., 1., 0., 0., 1., 1., 0., 1.,\n",
      "        1., 1., 1., 1., 1., 1., 0., 0., 1., 0., 0., 0., 0., 1., 0., 1., 1., 0.,\n",
      "        1., 1., 0., 0., 1., 0., 0., 1., 1., 1., 0., 0., 1., 0., 0., 0., 1., 0.,\n",
      "        1., 0., 1., 0., 1., 0., 0., 0., 1., 0., 1., 1., 0., 1., 1., 1., 1., 1.,\n",
      "        1., 0., 0., 0., 1., 1., 0., 0., 0., 1., 0., 0., 0., 1., 1., 1., 1., 1.,\n",
      "        1., 0.])\n",
      "torch.Size([128]) torch.Size([128])\n",
      "tensor([1., 1., 0., 1., 1., 0., 1., 1., 0., 1., 0., 0., 1., 1., 0., 1., 0., 0.,\n",
      "        1., 0., 1., 0., 1., 0., 0., 0., 1., 0., 0., 1., 1., 0., 0., 1., 0., 1.,\n",
      "        0., 0., 1., 1., 1., 0., 1., 0., 1., 1., 0., 1., 0., 1., 0., 1., 0., 1.,\n",
      "        1., 1., 0., 1., 1., 0., 0., 1., 1., 1., 1., 0., 1., 0., 0., 1., 0., 1.,\n",
      "        0., 1., 0., 1., 1., 1., 0., 1., 1., 0., 0., 1., 0., 1., 1., 1., 1., 1.,\n",
      "        0., 1., 1., 1., 1., 0., 1., 0., 0., 1., 0., 0., 1., 0., 0., 0., 0., 1.,\n",
      "        0., 0., 1., 1., 0., 0., 0., 0., 1., 0., 1., 0., 1., 0., 1., 0., 0., 1.,\n",
      "        0., 1.])\n",
      "torch.Size([128]) torch.Size([128])\n",
      "tensor([1., 1., 1., 0., 0., 1., 1., 1., 1., 1., 0., 1., 1., 1., 0., 0., 1., 0.,\n",
      "        1., 0., 0., 1., 1., 1., 1., 1., 0., 0., 0., 1., 0., 1., 0., 1., 0., 1.,\n",
      "        1., 0., 0., 1., 1., 0., 0., 1., 0., 1., 0., 1., 1., 0., 1., 1., 0., 1.,\n",
      "        0., 0., 0., 1., 0., 0., 1., 1., 0., 0., 0., 0., 1., 1., 0., 1., 1., 1.,\n",
      "        0., 1., 0., 1., 1., 1., 0., 0., 1., 1., 0., 0., 0., 1., 1., 0., 1., 0.,\n",
      "        0., 1., 0., 0., 0., 0., 1., 0., 1., 0., 0., 0., 1., 1., 0., 0., 0., 0.,\n",
      "        1., 1., 1., 1., 0., 0., 0., 0., 1., 1., 1., 0., 0., 0., 1., 1., 0., 0.,\n",
      "        0., 0.])\n",
      "torch.Size([41]) torch.Size([41])\n",
      "tensor([1., 0., 0., 0., 1., 1., 0., 0., 1., 0., 0., 1., 1., 0., 1., 0., 0., 0.,\n",
      "        1., 1., 0., 0., 1., 0., 1., 0., 0., 0., 0., 1., 0., 1., 1., 1., 1., 1.,\n",
      "        1., 1., 0., 0., 0.])\n",
      "Epoch 4/4, Accuracy: 0.522\n"
     ]
    }
   ],
   "source": [
    "model.eval()\n",
    "correct = 0\n",
    "for images, labels in iter(test_loader):\n",
    "    images = images.to(device)\n",
    "    labels = labels.to(device)\n",
    "    outputs = model(images)\n",
    "    outputs = torch.argmax(F.softmax(outputs), axis=1)\n",
    "    outputs = (outputs>0.5).float()\n",
    "    print(outputs.shape, labels.shape)\n",
    "    print((outputs == labels).float())\n",
    "    correct += (outputs == labels).float().sum()\n",
    "print(\"Epoch {}/{}, Accuracy: {:.3f}\".format(epoch+1,NUM_EPOCHS, correct/(len(dataset)*0.1)))\n",
    "\n"
   ]
  },
  {
   "cell_type": "markdown",
   "metadata": {},
   "source": [
    "Once the model is trained, it will generate ``best_steering_model_xy.pth`` file which you can use for inferencing in the live demo notebook.\n",
    "\n",
    "If you trained on a different machine other than JetBot, you'll need to upload this to the JetBot to the ``road_following`` example folder."
   ]
  }
 ],
 "metadata": {
  "kernelspec": {
   "display_name": "Python 3",
   "language": "python",
   "name": "python3"
  },
  "language_info": {
   "codemirror_mode": {
    "name": "ipython",
    "version": 3
   },
   "file_extension": ".py",
   "mimetype": "text/x-python",
   "name": "python",
   "nbconvert_exporter": "python",
   "pygments_lexer": "ipython3",
   "version": "3.7.7"
  }
 },
 "nbformat": 4,
 "nbformat_minor": 4
}
