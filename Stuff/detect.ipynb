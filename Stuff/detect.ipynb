{
 "cells": [
  {
   "cell_type": "markdown",
   "metadata": {},
   "source": [
    "# Road Follower - Train Model\n",
    "\n",
    "In this notebook we will train a neural network to take an input image, and output a set of x, y values corresponding to a target.\n",
    "\n",
    "We will be using PyTorch deep learning framework to train ResNet18 neural network architecture model for road follower application."
   ]
  },
  {
   "cell_type": "code",
   "execution_count": 42,
   "metadata": {},
   "outputs": [],
   "source": [
    "import torch\n",
    "import torch.optim as optim\n",
    "import torch.nn.functional as F\n",
    "import torch.nn as nn\n",
    "import torchvision\n",
    "import torchvision.datasets as datasets\n",
    "import torchvision.models as models\n",
    "from torchvision.transforms import ToTensor\n",
    "import glob\n",
    "import PIL.Image\n",
    "import os\n",
    "import numpy as np"
   ]
  },
  {
   "cell_type": "markdown",
   "metadata": {},
   "source": [
    "### Download and extract data\n",
    "\n",
    "Before you start, you should upload the ``road_following_<Date&Time>.zip`` file that you created in the ``data_collection.ipynb`` notebook on the robot. \n",
    "\n",
    "> If you're training on the JetBot you collected data on, you can skip this!\n",
    "\n",
    "You should then extract this dataset by calling the command below:"
   ]
  },
  {
   "cell_type": "code",
   "execution_count": 43,
   "metadata": {},
   "outputs": [
    {
     "name": "stderr",
     "output_type": "stream",
     "text": [
      "'unzip' is not recognized as an internal or external command,\n",
      "operable program or batch file.\n"
     ]
    }
   ],
   "source": [
    "!unzip -q road_following.zip"
   ]
  },
  {
   "cell_type": "markdown",
   "metadata": {},
   "source": [
    "You should see a folder named ``dataset_all`` appear in the file browser."
   ]
  },
  {
   "cell_type": "markdown",
   "metadata": {},
   "source": [
    "### Create Dataset Instance\n",
    "\n",
    "Here we create a custom ``torch.utils.data.Dataset`` implementation, which implements the ``__len__`` and ``__getitem__`` functions.  This class\n",
    "is responsible for loading images and parsing the x, y values from the image filenames.  Because we implement the ``torch.utils.data.Dataset`` class,\n",
    "we can use all of the torch data utilities :)\n",
    "\n",
    "We hard coded some transformations (like color jitter) into our dataset.  We made random horizontal flips optional (in case you want to follow a non-symmetric path, like a road\n",
    "where we need to 'stay right').  If it doesn't matter whether your robot follows some convention, you could enable flips to augment the dataset."
   ]
  },
  {
   "cell_type": "code",
   "execution_count": 44,
   "metadata": {},
   "outputs": [],
   "source": [
    "import glob"
   ]
  },
  {
   "cell_type": "code",
   "execution_count": 45,
   "metadata": {},
   "outputs": [],
   "source": [
    "class XYDataset(torch.utils.data.Dataset):\n",
    "    \n",
    "    def __init__(self):\n",
    "        path_person = './dataset/zebra/yes/*'\n",
    "        path_noperson = './dataset/zebra/no/*'\n",
    "\n",
    "        self.filenames = []\n",
    "        self.labels = []\n",
    "\n",
    "        for img in glob.glob(path_person):\n",
    "            self.filenames.append(img)\n",
    "            self.labels.append(0)\n",
    "        for img in glob.glob(path_noperson):\n",
    "            self.filenames.append(img)\n",
    "            self.labels.append(1)\n",
    "    \n",
    "    def __len__(self):\n",
    "        return len(self.filenames)\n",
    "    \n",
    "    def __getitem__(self, idx):\n",
    "        image_path = self.filenames[idx]\n",
    "        image = PIL.Image.open(image_path)\n",
    "        image = ToTensor()(image)\n",
    "        \n",
    "        return image, self.labels[idx]\n",
    "\n",
    "    def printOut(self):\n",
    "        return set(self.labels)\n",
    "    \n",
    "dataset = XYDataset()"
   ]
  },
  {
   "cell_type": "code",
   "execution_count": 46,
   "metadata": {},
   "outputs": [
    {
     "data": {
      "text/plain": [
       "({0, 1}, 1000)"
      ]
     },
     "execution_count": 46,
     "metadata": {},
     "output_type": "execute_result"
    }
   ],
   "source": [
    "dataset.printOut(), len(dataset)"
   ]
  },
  {
   "cell_type": "markdown",
   "metadata": {},
   "source": [
    "### Split dataset into train and test sets\n",
    "Once we read dataset, we will split data set in train and test sets. In this example we split train and test a 90%-10%. The test set will be used to verify the accuracy of the model we train."
   ]
  },
  {
   "cell_type": "code",
   "execution_count": 47,
   "metadata": {},
   "outputs": [],
   "source": [
    "test_percent = 0.1\n",
    "num_test = int(test_percent * len(dataset))\n",
    "train_dataset, test_dataset = torch.utils.data.random_split(dataset, [len(dataset) - num_test, num_test])"
   ]
  },
  {
   "cell_type": "markdown",
   "metadata": {},
   "source": [
    "### Create data loaders to load data in batches\n",
    "\n",
    "We use ``DataLoader`` class to load data in batches, shuffle data and allow using multi-subprocesses. In this example we use batch size of 64. Batch size will be based on memory available with your GPU and it can impact accuracy of the model."
   ]
  },
  {
   "cell_type": "code",
   "execution_count": 48,
   "metadata": {},
   "outputs": [],
   "source": [
    "train_loader = torch.utils.data.DataLoader(\n",
    "    train_dataset,\n",
    "    batch_size=128,\n",
    "    shuffle=True,\n",
    "    num_workers=0\n",
    ")\n",
    "\n",
    "test_loader = torch.utils.data.DataLoader(\n",
    "    test_dataset,\n",
    "    batch_size=128,\n",
    "    shuffle=True,\n",
    "    num_workers=0\n",
    ")"
   ]
  },
  {
   "cell_type": "markdown",
   "metadata": {},
   "source": [
    "### Define Neural Network Model \n",
    "\n",
    "We use ResNet-18 model available on PyTorch TorchVision. \n",
    "\n",
    "In a process called transfer learning, we can repurpose a pre-trained model (trained on millions of images) for a new task that has possibly much less data available.\n",
    "\n",
    "\n",
    "More details on ResNet-18 : https://github.com/pytorch/vision/blob/master/torchvision/models/resnet.py\n",
    "\n",
    "More Details on Transfer Learning: https://www.youtube.com/watch?v=yofjFQddwHE "
   ]
  },
  {
   "cell_type": "code",
   "execution_count": 49,
   "metadata": {},
   "outputs": [],
   "source": [
    "# model = models.resnet50(pretrained=True)\n",
    "model = models.alexnet(pretrained=True)\n",
    "for param in model.parameters():\n",
    "    param.requires_grad = False\n",
    "\n",
    "# for param in model.layer4.parameters():\n",
    "#     param.requires_grad = True\n",
    "# model.layer4.requires_grad_ = True"
   ]
  },
  {
   "cell_type": "code",
   "execution_count": 50,
   "metadata": {},
   "outputs": [
    {
     "name": "stdout",
     "output_type": "stream",
     "text": [
      "----------------------------------------------------------------\n",
      "        Layer (type)               Output Shape         Param #\n",
      "================================================================\n",
      "            Conv2d-1           [-1, 64, 55, 55]          23,296\n",
      "              ReLU-2           [-1, 64, 55, 55]               0\n",
      "         MaxPool2d-3           [-1, 64, 27, 27]               0\n",
      "            Conv2d-4          [-1, 192, 27, 27]         307,392\n",
      "              ReLU-5          [-1, 192, 27, 27]               0\n",
      "         MaxPool2d-6          [-1, 192, 13, 13]               0\n",
      "            Conv2d-7          [-1, 384, 13, 13]         663,936\n",
      "              ReLU-8          [-1, 384, 13, 13]               0\n",
      "            Conv2d-9          [-1, 256, 13, 13]         884,992\n",
      "             ReLU-10          [-1, 256, 13, 13]               0\n",
      "           Conv2d-11          [-1, 256, 13, 13]         590,080\n",
      "             ReLU-12          [-1, 256, 13, 13]               0\n",
      "        MaxPool2d-13            [-1, 256, 6, 6]               0\n",
      "AdaptiveAvgPool2d-14            [-1, 256, 6, 6]               0\n",
      "================================================================\n",
      "Total params: 2,469,696\n",
      "Trainable params: 0\n",
      "Non-trainable params: 2,469,696\n",
      "----------------------------------------------------------------\n",
      "Input size (MB): 0.57\n",
      "Forward/backward pass size (MB): 8.14\n",
      "Params size (MB): 9.42\n",
      "Estimated Total Size (MB): 18.14\n",
      "----------------------------------------------------------------\n"
     ]
    }
   ],
   "source": [
    "from torchsummary import summary\n",
    "summary(torch.nn.Sequential(*(list(model.children())[:-1])), (3, 224, 224))"
   ]
  },
  {
   "cell_type": "markdown",
   "metadata": {},
   "source": [
    "ResNet model has fully connect (fc) final layer with 512 as ``in_features`` and we will be training for regression thus ``out_features`` as 1\n",
    "\n",
    "Finally, we transfer our model for execution on the GPU"
   ]
  },
  {
   "cell_type": "code",
   "execution_count": 51,
   "metadata": {},
   "outputs": [],
   "source": [
    "# Resnet\n",
    "# model.fc = torch.nn.Linear(2048,3)\n",
    "\n",
    "# Alexnet\n",
    "model.classifier = nn.Sequential(\n",
    "            nn.Dropout(p=0.5),\n",
    "            nn.Linear(256 * 6 * 6, 4096),\n",
    "            nn.ReLU(inplace=True),\n",
    "            nn.Dropout(p=0.5),\n",
    "            nn.Linear(4096, 4096),\n",
    "            nn.ReLU(inplace=True),\n",
    "            nn.Linear(4096, 2)\n",
    "        )\n",
    "device = torch.device('cpu')\n",
    "model = model.to(device)"
   ]
  },
  {
   "cell_type": "markdown",
   "metadata": {},
   "source": [
    "### Train Regression:\n",
    "\n",
    "We train for 50 epochs and save best model if the loss is reduced. "
   ]
  },
  {
   "cell_type": "code",
   "execution_count": 52,
   "metadata": {},
   "outputs": [
    {
     "name": "stdout",
     "output_type": "stream",
     "text": [
      "Step: 1,  Epoch: 1/2,  Loss: 0.7090116143226624\n",
      "Step: 2,  Epoch: 1/2,  Loss: 6.853683948516846\n",
      "Step: 3,  Epoch: 1/2,  Loss: 30.74087905883789\n",
      "Step: 4,  Epoch: 1/2,  Loss: 13.608169555664062\n",
      "Step: 5,  Epoch: 1/2,  Loss: 1.7158637046813965\n",
      "Step: 6,  Epoch: 1/2,  Loss: 0.4060060977935791\n",
      "Step: 7,  Epoch: 1/2,  Loss: 0.8044204115867615\n",
      "Step: 8,  Epoch: 1/2,  Loss: 1.0331655740737915\n",
      "6.983900, 0.451650\n",
      "Step: 1,  Epoch: 2/2,  Loss: 0.6505378484725952\n",
      "Step: 2,  Epoch: 2/2,  Loss: 0.32486963272094727\n",
      "Step: 3,  Epoch: 2/2,  Loss: 0.4739901125431061\n",
      "Step: 4,  Epoch: 2/2,  Loss: 0.38344818353652954\n",
      "Step: 5,  Epoch: 2/2,  Loss: 0.20350608229637146\n",
      "Step: 6,  Epoch: 2/2,  Loss: 0.1551542431116104\n",
      "Step: 7,  Epoch: 2/2,  Loss: 0.08076869696378708\n",
      "Step: 8,  Epoch: 2/2,  Loss: 0.044496044516563416\n",
      "0.289596, 0.014793\n"
     ]
    }
   ],
   "source": [
    "# for param in model.parameters():\n",
    "#     param.requires_grad = True\n",
    "\n",
    "NUM_EPOCHS = 2\n",
    "BEST_MODEL_PATH = 'best_steering_model_xy.pth'\n",
    "best_loss = 1e9\n",
    "\n",
    "optimizer = optim.Adam(model.parameters())\n",
    "\n",
    "for epoch in range(NUM_EPOCHS):\n",
    "    \n",
    "    model.train()\n",
    "    train_loss = 0.0\n",
    "    for i, (images, labels) in enumerate(iter(train_loader)):\n",
    "        images = images.to(device)\n",
    "        labels = labels.to(device)\n",
    "        optimizer.zero_grad()\n",
    "        outputs = model(images)\n",
    "        loss = F.cross_entropy(outputs, labels)\n",
    "        train_loss += float(loss)\n",
    "        loss.backward()\n",
    "        optimizer.step()\n",
    "        print(f'Step: {i+1},  Epoch: {epoch+1}/{NUM_EPOCHS},  Loss: {loss.item()}')\n",
    "    train_loss /= len(train_loader)\n",
    "    \n",
    "    model.eval()\n",
    "    test_loss = 0.0\n",
    "    for images, labels in iter(test_loader):\n",
    "        images = images.to(device)\n",
    "        labels = labels.to(device)\n",
    "        outputs = model(images)\n",
    "        loss = F.cross_entropy(outputs, labels)\n",
    "        test_loss += float(loss)\n",
    "    test_loss /= len(test_loader)\n",
    "    \n",
    "    print('%f, %f' % (train_loss, test_loss))\n",
    "    if test_loss < best_loss:\n",
    "        torch.save(model.state_dict(), BEST_MODEL_PATH)\n",
    "        best_loss = test_loss"
   ]
  },
  {
   "cell_type": "code",
   "execution_count": 53,
   "metadata": {},
   "outputs": [
    {
     "name": "stdout",
     "output_type": "stream",
     "text": [
      "torch.Size([100]) torch.Size([100])\n",
      "tensor([1., 1., 1., 1., 1., 1., 1., 1., 1., 1., 1., 1., 1., 1., 1., 1., 1., 1.,\n",
      "        1., 1., 1., 0., 1., 1., 1., 1., 1., 1., 1., 1., 1., 1., 1., 1., 1., 1.,\n",
      "        1., 1., 1., 1., 1., 1., 1., 1., 1., 1., 1., 1., 1., 1., 1., 1., 1., 1.,\n",
      "        1., 1., 1., 1., 1., 1., 1., 1., 1., 1., 1., 1., 1., 1., 1., 1., 1., 1.,\n",
      "        1., 1., 1., 1., 1., 1., 1., 1., 1., 1., 1., 1., 1., 1., 1., 1., 1., 1.,\n",
      "        1., 1., 1., 1., 1., 1., 1., 1., 1., 1.])\n",
      "Epoch 2/2, Accuracy: 0.990\n"
     ]
    },
    {
     "name": "stderr",
     "output_type": "stream",
     "text": [
      "C:\\Users\\Sahaj\\AppData\\Roaming\\Python\\Python37\\site-packages\\ipykernel_launcher.py:7: UserWarning: Implicit dimension choice for softmax has been deprecated. Change the call to include dim=X as an argument.\n",
      "  import sys\n"
     ]
    }
   ],
   "source": [
    "model.eval()\n",
    "correct = 0\n",
    "for images, labels in iter(test_loader):\n",
    "    images = images.to(device)\n",
    "    labels = labels.to(device)\n",
    "    outputs = model(images)\n",
    "    outputs = torch.argmax(F.softmax(outputs), axis=1)\n",
    "    outputs = (outputs>0.5).float()\n",
    "    print(outputs.shape, labels.shape)\n",
    "    print((outputs == labels).float())\n",
    "    correct += (outputs == labels).float().sum()\n",
    "print(\"Epoch {}/{}, Accuracy: {:.3f}\".format(epoch+1,NUM_EPOCHS, correct/(len(dataset)*0.1)))\n",
    "\n"
   ]
  },
  {
   "cell_type": "code",
   "execution_count": 56,
   "metadata": {},
   "outputs": [
    {
     "name": "stdout",
     "output_type": "stream",
     "text": [
      "tensor([[4.0519e-03, 9.9595e-01],\n",
      "        [1.5054e-02, 9.8495e-01],\n",
      "        [1.1087e-02, 9.8891e-01],\n",
      "        [2.8821e-02, 9.7118e-01],\n",
      "        [1.7663e-02, 9.8234e-01],\n",
      "        [9.9917e-01, 8.3488e-04],\n",
      "        [8.5589e-02, 9.1441e-01],\n",
      "        [9.9522e-01, 4.7823e-03],\n",
      "        [9.9963e-01, 3.6904e-04],\n",
      "        [1.0000e+00, 3.8045e-06],\n",
      "        [9.9998e-01, 1.9092e-05],\n",
      "        [9.9998e-01, 2.0525e-05],\n",
      "        [3.5637e-03, 9.9644e-01],\n",
      "        [3.9051e-03, 9.9610e-01],\n",
      "        [4.8817e-03, 9.9512e-01],\n",
      "        [1.4104e-02, 9.8590e-01],\n",
      "        [9.9996e-01, 3.5865e-05],\n",
      "        [9.9999e-01, 1.4594e-05],\n",
      "        [1.7659e-02, 9.8234e-01],\n",
      "        [9.9993e-01, 6.7247e-05],\n",
      "        [1.1369e-02, 9.8863e-01],\n",
      "        [9.9991e-01, 8.6879e-05],\n",
      "        [5.8903e-03, 9.9411e-01],\n",
      "        [9.9946e-01, 5.4237e-04],\n",
      "        [3.2175e-03, 9.9678e-01],\n",
      "        [1.4019e-02, 9.8598e-01],\n",
      "        [9.9999e-01, 1.2301e-05],\n",
      "        [1.0336e-02, 9.8966e-01],\n",
      "        [9.7574e-01, 2.4261e-02],\n",
      "        [9.9971e-01, 2.9066e-04],\n",
      "        [9.9584e-01, 4.1569e-03],\n",
      "        [9.6145e-03, 9.9039e-01],\n",
      "        [3.3263e-02, 9.6674e-01],\n",
      "        [1.0542e-02, 9.8946e-01],\n",
      "        [9.9763e-01, 2.3747e-03],\n",
      "        [9.9929e-01, 7.1378e-04],\n",
      "        [1.0000e+00, 2.6207e-08],\n",
      "        [5.1420e-03, 9.9486e-01],\n",
      "        [1.5296e-02, 9.8470e-01],\n",
      "        [2.1808e-02, 9.7819e-01],\n",
      "        [9.9998e-01, 2.3879e-05],\n",
      "        [2.5960e-03, 9.9740e-01],\n",
      "        [9.9953e-01, 4.7425e-04],\n",
      "        [1.5049e-02, 9.8495e-01],\n",
      "        [9.9974e-01, 2.5858e-04],\n",
      "        [1.0000e+00, 6.7192e-07],\n",
      "        [1.3516e-02, 9.8648e-01],\n",
      "        [4.6908e-03, 9.9531e-01],\n",
      "        [1.8426e-02, 9.8157e-01],\n",
      "        [9.8461e-01, 1.5392e-02],\n",
      "        [1.0000e+00, 2.1258e-06],\n",
      "        [9.9998e-01, 2.1422e-05],\n",
      "        [5.4847e-03, 9.9452e-01],\n",
      "        [1.0333e-02, 9.8967e-01],\n",
      "        [9.4024e-03, 9.9060e-01],\n",
      "        [1.0868e-02, 9.8913e-01],\n",
      "        [9.9832e-01, 1.6849e-03],\n",
      "        [9.9994e-01, 6.3424e-05],\n",
      "        [1.1363e-02, 9.8864e-01],\n",
      "        [7.6852e-03, 9.9231e-01],\n",
      "        [9.9997e-01, 2.9675e-05],\n",
      "        [9.9701e-01, 2.9920e-03],\n",
      "        [1.0968e-02, 9.8903e-01],\n",
      "        [1.0000e+00, 2.2602e-06],\n",
      "        [8.0690e-03, 9.9193e-01],\n",
      "        [9.9982e-01, 1.7821e-04],\n",
      "        [8.8718e-03, 9.9113e-01],\n",
      "        [4.8899e-03, 9.9511e-01],\n",
      "        [8.0432e-03, 9.9196e-01],\n",
      "        [9.9975e-01, 2.5258e-04],\n",
      "        [9.8837e-01, 1.1625e-02],\n",
      "        [3.7343e-02, 9.6266e-01],\n",
      "        [9.9965e-01, 3.4533e-04],\n",
      "        [9.9988e-01, 1.2415e-04],\n",
      "        [9.9999e-01, 8.4104e-06],\n",
      "        [1.9229e-02, 9.8077e-01],\n",
      "        [9.9997e-01, 3.1944e-05],\n",
      "        [2.4175e-02, 9.7582e-01],\n",
      "        [9.9653e-01, 3.4666e-03],\n",
      "        [9.9649e-01, 3.5137e-03],\n",
      "        [3.8422e-03, 9.9616e-01],\n",
      "        [7.4974e-03, 9.9250e-01],\n",
      "        [1.0000e+00, 7.2038e-07],\n",
      "        [9.9973e-01, 2.6744e-04],\n",
      "        [9.9949e-01, 5.1385e-04],\n",
      "        [9.8936e-01, 1.0645e-02],\n",
      "        [1.0000e+00, 9.7443e-07],\n",
      "        [9.9998e-01, 2.1997e-05],\n",
      "        [9.9999e-01, 5.9210e-06],\n",
      "        [9.9762e-01, 2.3759e-03],\n",
      "        [1.0000e+00, 2.3076e-06],\n",
      "        [1.0000e+00, 9.8571e-07],\n",
      "        [6.3966e-03, 9.9360e-01],\n",
      "        [9.9999e-01, 1.3560e-05],\n",
      "        [1.0000e+00, 3.7841e-06],\n",
      "        [3.0352e-03, 9.9696e-01],\n",
      "        [9.9886e-01, 1.1360e-03],\n",
      "        [1.0000e+00, 7.2295e-07],\n",
      "        [1.3002e-02, 9.8700e-01],\n",
      "        [4.6555e-01, 5.3445e-01]], grad_fn=<SoftmaxBackward0>)\n"
     ]
    },
    {
     "name": "stderr",
     "output_type": "stream",
     "text": [
      "C:\\Users\\Sahaj\\AppData\\Roaming\\Python\\Python37\\site-packages\\ipykernel_launcher.py:7: UserWarning: Implicit dimension choice for softmax has been deprecated. Change the call to include dim=X as an argument.\n",
      "  import sys\n"
     ]
    }
   ],
   "source": [
    "model.eval()\n",
    "correct = 0\n",
    "for images, labels in iter(test_loader):\n",
    "    images = images.to(device)\n",
    "    labels = labels.to(device)\n",
    "    outputs = model(images)\n",
    "    print(F.softmax(outputs))\n",
    "    break\n",
    "\n"
   ]
  },
  {
   "cell_type": "markdown",
   "metadata": {},
   "source": [
    "Once the model is trained, it will generate ``best_steering_model_xy.pth`` file which you can use for inferencing in the live demo notebook.\n",
    "\n",
    "If you trained on a different machine other than JetBot, you'll need to upload this to the JetBot to the ``road_following`` example folder."
   ]
  }
 ],
 "metadata": {
  "kernelspec": {
   "display_name": "Python 3",
   "language": "python",
   "name": "python3"
  },
  "language_info": {
   "codemirror_mode": {
    "name": "ipython",
    "version": 3
   },
   "file_extension": ".py",
   "mimetype": "text/x-python",
   "name": "python",
   "nbconvert_exporter": "python",
   "pygments_lexer": "ipython3",
   "version": "3.7.7"
  }
 },
 "nbformat": 4,
 "nbformat_minor": 4
}
